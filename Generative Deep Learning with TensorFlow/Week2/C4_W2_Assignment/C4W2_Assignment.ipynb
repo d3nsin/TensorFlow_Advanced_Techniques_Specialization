{
  "nbformat": 4,
  "nbformat_minor": 0,
  "metadata": {
    "accelerator": "GPU",
    "kernelspec": {
      "display_name": "Python 3",
      "language": "python",
      "name": "python3"
    },
    "language_info": {
      "codemirror_mode": {
        "name": "ipython",
        "version": 3
      },
      "file_extension": ".py",
      "mimetype": "text/x-python",
      "name": "python",
      "nbconvert_exporter": "python",
      "pygments_lexer": "ipython3",
      "version": "3.7.4"
    },
    "colab": {
      "provenance": []
    },
    "gpuClass": "standard"
  },
  "cells": [
    {
      "cell_type": "markdown",
      "metadata": {
        "id": "L6S2HVAkSt0p"
      },
      "source": [
        "# Week 2 Assignment: CIFAR-10 Autoencoder\n",
        "\n",
        "For this week, you will create a convolutional autoencoder for the [CIFAR10](https://www.tensorflow.org/datasets/catalog/cifar10) dataset. You are free to choose the architecture of your autoencoder provided that the output image has the same dimensions as the input image.\n",
        "\n",
        "After training, your model should meet loss and accuracy requirements when evaluated with the test dataset. You will then download the model and upload it in the classroom for grading. \n",
        "\n",
        "Let's begin!"
      ]
    },
    {
      "cell_type": "markdown",
      "metadata": {
        "id": "6r4iPr2jyisR"
      },
      "source": [
        "***Important:*** *This colab notebook has read-only access so you won't be able to save your changes. If you want to save your work periodically, please click `File -> Save a Copy in Drive` to create a copy in your account, then work from there.*  "
      ]
    },
    {
      "cell_type": "markdown",
      "metadata": {
        "id": "g1mzy2J8_nc1"
      },
      "source": [
        "## Imports"
      ]
    },
    {
      "cell_type": "code",
      "metadata": {
        "id": "3EXwoz-KHtWO",
        "colab": {
          "base_uri": "https://localhost:8080/"
        },
        "outputId": "382001ac-ae48-4d1a-9540-455af605775b"
      },
      "source": [
        "try:\n",
        "  # %tensorflow_version only exists in Colab.\n",
        "  %tensorflow_version 2.x\n",
        "except Exception:\n",
        "  pass\n",
        "\n",
        "import tensorflow as tf\n",
        "import tensorflow_datasets as tfds\n",
        "\n",
        "from keras.models import Sequential"
      ],
      "execution_count": 1,
      "outputs": [
        {
          "output_type": "stream",
          "name": "stdout",
          "text": [
            "Colab only includes TensorFlow 2.x; %tensorflow_version has no effect.\n"
          ]
        }
      ]
    },
    {
      "cell_type": "markdown",
      "metadata": {
        "id": "n2Gs6Lyc_pd0"
      },
      "source": [
        "## Load and prepare the dataset\n",
        "\n",
        "The [CIFAR 10](https://www.tensorflow.org/datasets/catalog/cifar10) dataset already has train and test splits and you can use those in this exercise. Here are the general steps:\n",
        "\n",
        "* Load the train/test split from TFDS. Set `as_supervised` to `True` so it will be convenient to use the preprocessing function we provided.\n",
        "* Normalize the pixel values to the range [0,1], then return `image, image` pairs for training instead of `image, label`. This is because you will check if the output image is successfully regenerated after going through your autoencoder.\n",
        "* Shuffle and batch the train set. Batch the test set (no need to shuffle).\n"
      ]
    },
    {
      "cell_type": "code",
      "metadata": {
        "id": "t9F7YsCNIKSA"
      },
      "source": [
        "# preprocessing function\n",
        "def map_image(image, label):\n",
        "  image = tf.cast(image, dtype=tf.float32)\n",
        "  image = image / 255.0\n",
        "\n",
        "  return image, image # dataset label is not used. replaced with the same image input.\n",
        "\n",
        "# parameters\n",
        "BATCH_SIZE = 128\n",
        "SHUFFLE_BUFFER_SIZE = 1024\n",
        "\n",
        "\n",
        "### START CODE HERE (Replace instances of `None` with your code) ###\n",
        "\n",
        "# use tfds.load() to fetch the 'train' split of CIFAR-10\n",
        "train_dataset = tfds.load('cifar10', as_supervised=True, split='train')\n",
        "\n",
        "# preprocess the dataset with the `map_image()` function above\n",
        "train_dataset = train_dataset.map(map_image)\n",
        "\n",
        "# shuffle and batch the dataset\n",
        "train_dataset = train_dataset.shuffle(SHUFFLE_BUFFER_SIZE).batch(BATCH_SIZE)\n",
        "\n",
        "\n",
        "# use tfds.load() to fetch the 'test' split of CIFAR-10\n",
        "test_dataset = tfds.load('cifar10', as_supervised=True, split='test')\n",
        "\n",
        "# preprocess the dataset with the `map_image()` function above\n",
        "test_dataset = test_dataset.map(map_image)\n",
        "\n",
        "# batch the dataset\n",
        "test_dataset = test_dataset.batch(BATCH_SIZE)\n",
        "\n",
        "### END CODE HERE ###"
      ],
      "execution_count": 2,
      "outputs": []
    },
    {
      "cell_type": "markdown",
      "metadata": {
        "id": "rPyOgGJs_t98"
      },
      "source": [
        "## Build the Model\n",
        "\n",
        "Create the autoencoder model. As shown in the lectures, you will want to downsample the image in the encoder layers then upsample it in the decoder path. Note that the output layer should be the same dimensions as the original image. Your input images will have the shape `(32, 32, 3)`. If you deviate from this, your model may not be recognized by the grader and may fail. \n",
        "\n",
        "We included a few hints to use the Sequential API below but feel free to remove it and use the Functional API just like in the ungraded labs if you're more comfortable with it. Another reason to use the latter is if you want to visualize the encoder output. As shown in the ungraded labs, it will be easier to indicate multiple outputs with the Functional API. That is not required for this assignment though so you can just stack layers sequentially if you want a simpler solution."
      ]
    },
    {
      "cell_type": "code",
      "metadata": {
        "id": "Wr-Bok3lRgA3",
        "colab": {
          "base_uri": "https://localhost:8080/"
        },
        "outputId": "4ff2354c-b9b2-418e-ea89-6102d7b8f026"
      },
      "source": [
        "# suggested layers to use. feel free to add or remove as you see fit.\n",
        "#from keras.layers import Conv2D, UpSampling2D, MaxPooling2D\n",
        "\n",
        "### START CODE HERE ###\n",
        "inputs = tf.keras.layers.Input(shape=(32, 32, 3))\n",
        "\n",
        "# Encoder\n",
        "conv_1 = tf.keras.layers.Conv2D(filters=64, kernel_size=(3,3), activation='relu', padding='same')(inputs)\n",
        "max_pool_1 = tf.keras.layers.MaxPooling2D(pool_size=(2,2))(conv_1)\n",
        "\n",
        "conv_2 = tf.keras.layers.Conv2D(filters=128, kernel_size=(3,3), activation='relu', padding='same')(max_pool_1)\n",
        "max_pool_2 = tf.keras.layers.MaxPooling2D(pool_size=(2,2))(conv_2)\n",
        "\n",
        "# Bottle Neck\n",
        "bottle_neck = tf.keras.layers.Conv2D(filters=256, kernel_size=(3,3), activation='relu', padding='same')(max_pool_2)\n",
        "\n",
        "# Decoder\n",
        "conv_3 = tf.keras.layers.Conv2D(filters=128, kernel_size=(3,3), activation='relu', padding='same')(bottle_neck)\n",
        "up_sample_3 = tf.keras.layers.UpSampling2D(size=(2,2))(conv_3)\n",
        "\n",
        "conv_4 = tf.keras.layers.Conv2D(filters=64, kernel_size=(3,3), activation='relu', padding='same')(up_sample_3)\n",
        "up_sample_4 = tf.keras.layers.UpSampling2D(size=(2,2))(conv_4)\n",
        "\n",
        "conv_5 = tf.keras.layers.Conv2D(filters=3, kernel_size=(3,3), activation='sigmoid', padding='same')(up_sample_4)\n",
        "\n",
        "model = tf.keras.Model(inputs=inputs, outputs=conv_5)\n",
        "\n",
        "### END CODE HERE ###\n",
        "\n",
        "model.summary()"
      ],
      "execution_count": 3,
      "outputs": [
        {
          "output_type": "stream",
          "name": "stdout",
          "text": [
            "Model: \"model\"\n",
            "_________________________________________________________________\n",
            "Layer (type)                 Output Shape              Param #   \n",
            "=================================================================\n",
            "input_1 (InputLayer)         [(None, 32, 32, 3)]       0         \n",
            "_________________________________________________________________\n",
            "conv2d (Conv2D)              (None, 32, 32, 64)        1792      \n",
            "_________________________________________________________________\n",
            "max_pooling2d (MaxPooling2D) (None, 16, 16, 64)        0         \n",
            "_________________________________________________________________\n",
            "conv2d_1 (Conv2D)            (None, 16, 16, 128)       73856     \n",
            "_________________________________________________________________\n",
            "max_pooling2d_1 (MaxPooling2 (None, 8, 8, 128)         0         \n",
            "_________________________________________________________________\n",
            "conv2d_2 (Conv2D)            (None, 8, 8, 256)         295168    \n",
            "_________________________________________________________________\n",
            "conv2d_3 (Conv2D)            (None, 8, 8, 128)         295040    \n",
            "_________________________________________________________________\n",
            "up_sampling2d (UpSampling2D) (None, 16, 16, 128)       0         \n",
            "_________________________________________________________________\n",
            "conv2d_4 (Conv2D)            (None, 16, 16, 64)        73792     \n",
            "_________________________________________________________________\n",
            "up_sampling2d_1 (UpSampling2 (None, 32, 32, 64)        0         \n",
            "_________________________________________________________________\n",
            "conv2d_5 (Conv2D)            (None, 32, 32, 3)         1731      \n",
            "=================================================================\n",
            "Total params: 741,379\n",
            "Trainable params: 741,379\n",
            "Non-trainable params: 0\n",
            "_________________________________________________________________\n"
          ]
        }
      ]
    },
    {
      "cell_type": "markdown",
      "metadata": {
        "id": "jRWTAijKEVUC"
      },
      "source": [
        "## Configure training parameters\n",
        "\n",
        "We have already provided the optimizer, metrics, and loss in the code below."
      ]
    },
    {
      "cell_type": "code",
      "metadata": {
        "id": "iHIeD9eDETSk"
      },
      "source": [
        "# Please do not change the model.compile() parameters\n",
        "model.compile(optimizer='adam', \n",
        "              metrics=['accuracy'], \n",
        "              loss='mean_squared_error')"
      ],
      "execution_count": 4,
      "outputs": []
    },
    {
      "cell_type": "markdown",
      "metadata": {
        "id": "tLQPhm1W_8dC"
      },
      "source": [
        "## Training\n",
        "\n",
        "You can now use [model.fit()](https://keras.io/api/models/model_training_apis/#fit-method) to train your model. You will pass in the `train_dataset` and you are free to configure the other parameters. As with any training, you should see the loss generally going down and the accuracy going up with each epoch. If not, please revisit the previous sections to find possible bugs.\n",
        "\n",
        "*Note: If you get a `dataset length is infinite` error. Please check how you defined `train_dataset`. You might have included a [method that repeats the dataset indefinitely](https://www.tensorflow.org/api_docs/python/tf/data/Dataset#repeat).*"
      ]
    },
    {
      "cell_type": "code",
      "metadata": {
        "id": "AMBimOnsRvg0",
        "colab": {
          "base_uri": "https://localhost:8080/"
        },
        "outputId": "13ae7638-98ca-4877-9254-5115acde95da"
      },
      "source": [
        "# parameters (feel free to change this)\n",
        "train_steps = len(train_dataset) // BATCH_SIZE \n",
        "val_steps = len(test_dataset) // BATCH_SIZE\n",
        "\n",
        "### START CODE HERE ###\n",
        "model.fit(train_dataset,\n",
        "          steps_per_epoch=train_steps,\n",
        "          validation_data=test_dataset,\n",
        "          validation_steps=val_steps, \n",
        "          epochs=60)\n",
        "### END CODE HERE ###"
      ],
      "execution_count": 5,
      "outputs": [
        {
          "output_type": "stream",
          "name": "stdout",
          "text": [
            "Epoch 1/60\n",
            "3/3 [==============================] - 4s 107ms/step - loss: 0.0632 - accuracy: 0.4502\n",
            "Epoch 2/60\n",
            "3/3 [==============================] - 0s 107ms/step - loss: 0.0596 - accuracy: 0.4959\n",
            "Epoch 3/60\n",
            "3/3 [==============================] - 0s 79ms/step - loss: 0.0590 - accuracy: 0.4469\n",
            "Epoch 4/60\n",
            "3/3 [==============================] - 0s 86ms/step - loss: 0.0466 - accuracy: 0.4848\n",
            "Epoch 5/60\n",
            "3/3 [==============================] - 0s 99ms/step - loss: 0.0430 - accuracy: 0.4825\n",
            "Epoch 6/60\n",
            "3/3 [==============================] - 0s 97ms/step - loss: 0.0345 - accuracy: 0.4705\n",
            "Epoch 7/60\n",
            "3/3 [==============================] - 0s 97ms/step - loss: 0.0285 - accuracy: 0.4222\n",
            "Epoch 8/60\n",
            "3/3 [==============================] - 0s 81ms/step - loss: 0.0293 - accuracy: 0.5530\n",
            "Epoch 9/60\n",
            "3/3 [==============================] - 0s 93ms/step - loss: 0.0244 - accuracy: 0.5471\n",
            "Epoch 10/60\n",
            "3/3 [==============================] - 0s 89ms/step - loss: 0.0232 - accuracy: 0.5738\n",
            "Epoch 11/60\n",
            "3/3 [==============================] - 0s 109ms/step - loss: 0.0208 - accuracy: 0.5527\n",
            "Epoch 12/60\n",
            "3/3 [==============================] - 0s 77ms/step - loss: 0.0199 - accuracy: 0.5881\n",
            "Epoch 13/60\n",
            "3/3 [==============================] - 0s 106ms/step - loss: 0.0176 - accuracy: 0.6089\n",
            "Epoch 14/60\n",
            "3/3 [==============================] - 0s 86ms/step - loss: 0.0168 - accuracy: 0.6093\n",
            "Epoch 15/60\n",
            "3/3 [==============================] - 0s 101ms/step - loss: 0.0169 - accuracy: 0.5978\n",
            "Epoch 16/60\n",
            "3/3 [==============================] - 0s 120ms/step - loss: 0.0156 - accuracy: 0.6138\n",
            "Epoch 17/60\n",
            "3/3 [==============================] - 0s 96ms/step - loss: 0.0147 - accuracy: 0.5988\n",
            "Epoch 18/60\n",
            "3/3 [==============================] - 0s 94ms/step - loss: 0.0139 - accuracy: 0.6241\n",
            "Epoch 19/60\n",
            "3/3 [==============================] - 0s 102ms/step - loss: 0.0127 - accuracy: 0.6247\n",
            "Epoch 20/60\n",
            "3/3 [==============================] - 0s 88ms/step - loss: 0.0128 - accuracy: 0.6242\n",
            "Epoch 21/60\n",
            "3/3 [==============================] - 0s 139ms/step - loss: 0.0122 - accuracy: 0.6248\n",
            "Epoch 22/60\n",
            "3/3 [==============================] - 0s 145ms/step - loss: 0.0118 - accuracy: 0.6342\n",
            "Epoch 23/60\n",
            "3/3 [==============================] - 0s 157ms/step - loss: 0.0116 - accuracy: 0.6501\n",
            "Epoch 24/60\n",
            "3/3 [==============================] - 1s 214ms/step - loss: 0.0153 - accuracy: 0.6297\n",
            "Epoch 25/60\n",
            "3/3 [==============================] - 0s 137ms/step - loss: 0.0120 - accuracy: 0.6416\n",
            "Epoch 26/60\n",
            "3/3 [==============================] - 0s 210ms/step - loss: 0.0125 - accuracy: 0.6599\n",
            "Epoch 27/60\n",
            "3/3 [==============================] - 0s 149ms/step - loss: 0.0109 - accuracy: 0.6423\n",
            "Epoch 28/60\n",
            "3/3 [==============================] - 0s 147ms/step - loss: 0.0110 - accuracy: 0.6180\n",
            "Epoch 29/60\n",
            "3/3 [==============================] - 0s 146ms/step - loss: 0.0105 - accuracy: 0.6415\n",
            "Epoch 30/60\n",
            "3/3 [==============================] - 0s 125ms/step - loss: 0.0103 - accuracy: 0.6695\n",
            "Epoch 31/60\n",
            "3/3 [==============================] - 0s 146ms/step - loss: 0.0099 - accuracy: 0.6511\n",
            "Epoch 32/60\n",
            "3/3 [==============================] - 0s 128ms/step - loss: 0.0095 - accuracy: 0.6521\n",
            "Epoch 33/60\n",
            "3/3 [==============================] - 0s 132ms/step - loss: 0.0097 - accuracy: 0.6546\n",
            "Epoch 34/60\n",
            "3/3 [==============================] - 0s 144ms/step - loss: 0.0093 - accuracy: 0.6389\n",
            "Epoch 35/60\n",
            "3/3 [==============================] - 0s 191ms/step - loss: 0.0088 - accuracy: 0.6709\n",
            "Epoch 36/60\n",
            "3/3 [==============================] - 0s 144ms/step - loss: 0.0085 - accuracy: 0.6559\n",
            "Epoch 37/60\n",
            "3/3 [==============================] - 0s 56ms/step - loss: 0.0083 - accuracy: 0.6701\n",
            "Epoch 38/60\n",
            "3/3 [==============================] - 0s 58ms/step - loss: 0.0082 - accuracy: 0.6872\n",
            "Epoch 39/60\n",
            "3/3 [==============================] - 0s 54ms/step - loss: 0.0091 - accuracy: 0.7079\n",
            "Epoch 40/60\n",
            "3/3 [==============================] - 0s 55ms/step - loss: 0.0086 - accuracy: 0.6965\n",
            "Epoch 41/60\n",
            "3/3 [==============================] - 0s 54ms/step - loss: 0.0079 - accuracy: 0.7130\n",
            "Epoch 42/60\n",
            "3/3 [==============================] - 0s 57ms/step - loss: 0.0080 - accuracy: 0.7217\n",
            "Epoch 43/60\n",
            "3/3 [==============================] - 0s 61ms/step - loss: 0.0072 - accuracy: 0.7117\n",
            "Epoch 44/60\n",
            "3/3 [==============================] - 0s 56ms/step - loss: 0.0072 - accuracy: 0.7388\n",
            "Epoch 45/60\n",
            "3/3 [==============================] - 0s 49ms/step - loss: 0.0074 - accuracy: 0.7414\n",
            "Epoch 46/60\n",
            "3/3 [==============================] - 0s 57ms/step - loss: 0.0080 - accuracy: 0.7375\n",
            "Epoch 47/60\n",
            "3/3 [==============================] - 0s 53ms/step - loss: 0.0103 - accuracy: 0.7431\n",
            "Epoch 48/60\n",
            "3/3 [==============================] - 0s 62ms/step - loss: 0.0087 - accuracy: 0.7497\n",
            "Epoch 49/60\n",
            "3/3 [==============================] - 0s 61ms/step - loss: 0.0085 - accuracy: 0.7270\n",
            "Epoch 50/60\n",
            "3/3 [==============================] - 0s 58ms/step - loss: 0.0077 - accuracy: 0.7500\n",
            "Epoch 51/60\n",
            "3/3 [==============================] - 0s 55ms/step - loss: 0.0073 - accuracy: 0.7374\n",
            "Epoch 52/60\n",
            "3/3 [==============================] - 0s 55ms/step - loss: 0.0074 - accuracy: 0.7295\n",
            "Epoch 53/60\n",
            "3/3 [==============================] - 0s 57ms/step - loss: 0.0069 - accuracy: 0.7588\n",
            "Epoch 54/60\n",
            "3/3 [==============================] - 0s 56ms/step - loss: 0.0070 - accuracy: 0.7484\n",
            "Epoch 55/60\n",
            "3/3 [==============================] - 0s 57ms/step - loss: 0.0069 - accuracy: 0.7420\n",
            "Epoch 56/60\n",
            "3/3 [==============================] - 0s 58ms/step - loss: 0.0065 - accuracy: 0.7444\n",
            "Epoch 57/60\n",
            "3/3 [==============================] - 0s 58ms/step - loss: 0.0066 - accuracy: 0.7518\n",
            "Epoch 58/60\n",
            "3/3 [==============================] - 0s 59ms/step - loss: 0.0065 - accuracy: 0.7576\n",
            "Epoch 59/60\n",
            "3/3 [==============================] - 0s 58ms/step - loss: 0.0064 - accuracy: 0.7546\n",
            "Epoch 60/60\n",
            "3/3 [==============================] - 0s 60ms/step - loss: 0.0065 - accuracy: 0.7810\n"
          ]
        },
        {
          "output_type": "execute_result",
          "data": {
            "text/plain": [
              "<keras.callbacks.History at 0x7fa58dd219a0>"
            ]
          },
          "metadata": {},
          "execution_count": 5
        }
      ]
    },
    {
      "cell_type": "markdown",
      "metadata": {
        "id": "PT2l1c-SAaF4"
      },
      "source": [
        "## Model evaluation\n",
        "\n",
        "You can use this code to test your model locally before uploading to the grader. To pass, your model needs to satisfy these two requirements:\n",
        "\n",
        "* loss must be less than 0.01 \n",
        "* accuracy must be greater than 0.6"
      ]
    },
    {
      "cell_type": "code",
      "metadata": {
        "id": "vFncgqahSQhA",
        "colab": {
          "base_uri": "https://localhost:8080/"
        },
        "outputId": "a9572f8f-0cae-49b7-a236-84439a04e29d"
      },
      "source": [
        "result = model.evaluate(test_dataset, steps=10)"
      ],
      "execution_count": 6,
      "outputs": [
        {
          "output_type": "stream",
          "name": "stdout",
          "text": [
            "10/10 [==============================] - 0s 26ms/step - loss: 0.0062 - accuracy: 0.7743\n"
          ]
        }
      ]
    },
    {
      "cell_type": "markdown",
      "metadata": {
        "id": "di6VOHGwIsVM"
      },
      "source": [
        "If you did some visualization like in the ungraded labs, then you might see something like the gallery below. This part is not required."
      ]
    },
    {
      "cell_type": "markdown",
      "metadata": {
        "id": "wmpI4skkIA5L"
      },
      "source": [
        "<img src=\"https://drive.google.com/uc?export=view&id=12Fy-guiP-3tTPfc9IV2nHhqLvs7LwRo6\" width=\"75%\" height=\"75%\"/>"
      ]
    },
    {
      "cell_type": "markdown",
      "metadata": {
        "id": "uaRSkQPNAPT0"
      },
      "source": [
        "## Save your model\n",
        "\n",
        "Once you are satisfied with the results, you can now save your model. Please download it from the Files window on the left and go back to the Submission portal in Coursera for grading."
      ]
    },
    {
      "cell_type": "code",
      "metadata": {
        "id": "pLFpLP-c7rDR"
      },
      "source": [
        "model.save('mymodel.h5')"
      ],
      "execution_count": 7,
      "outputs": []
    },
    {
      "cell_type": "markdown",
      "metadata": {
        "id": "QArMiXJTDxDe"
      },
      "source": [
        "**Congratulations on completing this week's assignment!**"
      ]
    }
  ]
}